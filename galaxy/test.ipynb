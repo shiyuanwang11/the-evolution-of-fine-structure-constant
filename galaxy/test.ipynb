{
 "cells": [
  {
   "cell_type": "markdown",
   "metadata": {},
   "source": [
    "# plot"
   ]
  },
  {
   "cell_type": "code",
   "execution_count": 2,
   "metadata": {},
   "outputs": [],
   "source": [
    "from getdist import loadMCSamples, plots"
   ]
  },
  {
   "cell_type": "code",
   "execution_count": 3,
   "metadata": {},
   "outputs": [
    {
     "name": "stderr",
     "output_type": "stream",
     "text": [
      "WARNING:root:auto bandwidth for chi2 very small or failed (h=0.0034819592272353644,N_eff=180.23597648180518). Using fallback (h=0.006390822764279714)\n"
     ]
    }
   ],
   "source": [
    "g=plots.get_subplot_plotter(chain_dir=['/home/wangsy2/fs_const/galaxy/chains515'], width_inch=7)\n",
    "roots = ['frb515']\n",
    "params = ['alpha']\n",
    "\n",
    "g.settings.figure_legend_frame = False\n",
    "g.settings.alpha_filled_add=0.8\n",
    "g.settings.title_limit_fontsize = 14\n",
    "\n",
    "g.triangle_plot(roots, params, filled=True, legend_labels=[r'$FRB=10^5, z_g=0.15$'], title_limit=1)\n",
    "\n",
    "g.export('g515.pdf')"
   ]
  },
  {
   "cell_type": "code",
   "execution_count": 4,
   "metadata": {},
   "outputs": [
    {
     "name": "stderr",
     "output_type": "stream",
     "text": [
      "WARNING:root:auto bandwidth for chi2 very small or failed (h=0.0007277503340391812,N_eff=699.6873315363881). Using fallback (h=0.006675186015337773)\n"
     ]
    }
   ],
   "source": [
    "g=plots.get_subplot_plotter(chain_dir=['/home/wangsy2/fs_const/galaxy/chains545'], width_inch=7)\n",
    "roots = ['frb545']\n",
    "params = ['alpha']\n",
    "\n",
    "g.settings.figure_legend_frame = False\n",
    "g.settings.alpha_filled_add=0.8\n",
    "g.settings.title_limit_fontsize = 14\n",
    "\n",
    "g.triangle_plot(roots, params, filled=True, legend_labels=[r'$FRB=10^5, z_g=0.45$'], title_limit=1)\n",
    "\n",
    "g.export('g545.pdf')"
   ]
  },
  {
   "cell_type": "code",
   "execution_count": 5,
   "metadata": {},
   "outputs": [
    {
     "name": "stderr",
     "output_type": "stream",
     "text": [
      "WARNING:root:auto bandwidth for chi2 very small or failed (h=0.0010033261658685102,N_eff=394.0137931034483). Using fallback (h=0.00645163779396438)\n"
     ]
    }
   ],
   "source": [
    "g=plots.get_subplot_plotter(chain_dir=['/home/wangsy2/fs_const/galaxy/chains575'], width_inch=7)\n",
    "roots = ['frb575']\n",
    "params = ['alpha']\n",
    "\n",
    "g.settings.figure_legend_frame = False\n",
    "g.settings.alpha_filled_add=0.8\n",
    "g.settings.title_limit_fontsize = 14\n",
    "\n",
    "g.triangle_plot(roots, params, filled=True, legend_labels=[r'$FRB=10^5, z_g=0.75$'], title_limit=1)\n",
    "\n",
    "g.export('g575.pdf')"
   ]
  }
 ],
 "metadata": {
  "kernelspec": {
   "display_name": "mcmc1",
   "language": "python",
   "name": "python3"
  },
  "language_info": {
   "codemirror_mode": {
    "name": "ipython",
    "version": 3
   },
   "file_extension": ".py",
   "mimetype": "text/x-python",
   "name": "python",
   "nbconvert_exporter": "python",
   "pygments_lexer": "ipython3",
   "version": "3.12.2"
  }
 },
 "nbformat": 4,
 "nbformat_minor": 2
}
